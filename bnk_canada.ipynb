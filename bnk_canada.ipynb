{
 "cells": [
  {
   "cell_type": "markdown",
   "metadata": {},
   "source": [
    "## This Notebook is to familiarize the Bank of Canada dataset\n",
    "\n",
    "Dataset source: https://www.bankofcanada.ca/markets/market-operations-liquidity-provision/covid-19-actions-support-economy-financial-system\n",
    "\n",
    "Api to be used: Valet_api\n",
    "\n",
    "The Bank of Canada Valet Web Services offers programmatic access to global financial data. By using the Valet API, you can retrieve financial data and information from the Bank of Canada — such as daily exchange rates of the Canadian dollar against the European euro."
   ]
  },
  {
   "cell_type": "code",
   "execution_count": 3,
   "metadata": {},
   "outputs": [],
   "source": [
    "import pandas\n",
    "import numpy as pd"
   ]
  },
  {
   "cell_type": "code",
   "execution_count": 4,
   "metadata": {},
   "outputs": [],
   "source": [
    "# Install valet_api from bank of Canada"
   ]
  },
  {
   "cell_type": "code",
   "execution_count": 5,
   "metadata": {},
   "outputs": [
    {
     "name": "stdout",
     "output_type": "stream",
     "text": [
      "Requirement already satisfied: pyvalet in /Users/shiqihu/opt/anaconda3/lib/python3.7/site-packages (0.1)\n",
      "Requirement already satisfied: loguru in /Users/shiqihu/opt/anaconda3/lib/python3.7/site-packages (from pyvalet) (0.5.1)\n",
      "Requirement already satisfied: requests in /Users/shiqihu/opt/anaconda3/lib/python3.7/site-packages (from pyvalet) (2.22.0)\n",
      "Requirement already satisfied: pandas in /Users/shiqihu/opt/anaconda3/lib/python3.7/site-packages (from pyvalet) (1.0.1)\n",
      "Requirement already satisfied: chardet<3.1.0,>=3.0.2 in /Users/shiqihu/opt/anaconda3/lib/python3.7/site-packages (from requests->pyvalet) (3.0.4)\n",
      "Requirement already satisfied: certifi>=2017.4.17 in /Users/shiqihu/opt/anaconda3/lib/python3.7/site-packages (from requests->pyvalet) (2019.11.28)\n",
      "Requirement already satisfied: idna<2.9,>=2.5 in /Users/shiqihu/opt/anaconda3/lib/python3.7/site-packages (from requests->pyvalet) (2.8)\n",
      "Requirement already satisfied: urllib3!=1.25.0,!=1.25.1,<1.26,>=1.21.1 in /Users/shiqihu/opt/anaconda3/lib/python3.7/site-packages (from requests->pyvalet) (1.25.8)\n",
      "Requirement already satisfied: python-dateutil>=2.6.1 in /Users/shiqihu/opt/anaconda3/lib/python3.7/site-packages (from pandas->pyvalet) (2.8.1)\n",
      "Requirement already satisfied: numpy>=1.13.3 in /Users/shiqihu/opt/anaconda3/lib/python3.7/site-packages (from pandas->pyvalet) (1.18.1)\n",
      "Requirement already satisfied: pytz>=2017.2 in /Users/shiqihu/opt/anaconda3/lib/python3.7/site-packages (from pandas->pyvalet) (2019.3)\n",
      "Requirement already satisfied: six>=1.5 in /Users/shiqihu/opt/anaconda3/lib/python3.7/site-packages (from python-dateutil>=2.6.1->pandas->pyvalet) (1.14.0)\n",
      "Note: you may need to restart the kernel to use updated packages.\n"
     ]
    }
   ],
   "source": [
    "pip install pyvalet"
   ]
  },
  {
   "cell_type": "code",
   "execution_count": null,
   "metadata": {},
   "outputs": [],
   "source": []
  }
 ],
 "metadata": {
  "kernelspec": {
   "display_name": "Python 3",
   "language": "python",
   "name": "python3"
  },
  "language_info": {
   "codemirror_mode": {
    "name": "ipython",
    "version": 3
   },
   "file_extension": ".py",
   "mimetype": "text/x-python",
   "name": "python",
   "nbconvert_exporter": "python",
   "pygments_lexer": "ipython3",
   "version": "3.7.6"
  }
 },
 "nbformat": 4,
 "nbformat_minor": 4
}
