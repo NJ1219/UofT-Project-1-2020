{
 "cells": [
  {
   "cell_type": "markdown",
   "metadata": {},
   "source": [
    "## This Notebook is to familiarize the Bank of Canada dataset\n",
    "\n",
    "Dataset source: https://www.bankofcanada.ca/markets/market-operations-liquidity-provision/covid-19-actions-support-economy-financial-system\n",
    "\n",
    "Api to be used: Valet_api\n",
    "\n",
    "The Bank of Canada Valet Web Services offers programmatic access to global financial data. By using the Valet API, you can retrieve financial data and information from the Bank of Canada — such as daily exchange rates of the Canadian dollar against the European euro."
   ]
  },
  {
   "cell_type": "code",
   "execution_count": 94,
   "metadata": {},
   "outputs": [],
   "source": [
    "import pandas as pd\n",
    "import numpy as np\n",
    "import matplotlib\n",
    "import datetime\n",
    "import quandl\n",
    "from pathlib import Path"
   ]
  },
  {
   "cell_type": "code",
   "execution_count": 95,
   "metadata": {},
   "outputs": [],
   "source": [
    "# Install valet_api from bank of Canada\n",
    "#https://pypi.org/project/pyvalet/"
   ]
  },
  {
   "cell_type": "code",
   "execution_count": 96,
   "metadata": {},
   "outputs": [
    {
     "name": "stdout",
     "output_type": "stream",
     "text": [
      "Requirement already satisfied: pyvalet in /Users/shiqihu/opt/anaconda3/lib/python3.7/site-packages (0.1)\n",
      "Requirement already satisfied: requests in /Users/shiqihu/opt/anaconda3/lib/python3.7/site-packages (from pyvalet) (2.22.0)\n",
      "Requirement already satisfied: pandas in /Users/shiqihu/opt/anaconda3/lib/python3.7/site-packages (from pyvalet) (1.0.1)\n",
      "Requirement already satisfied: loguru in /Users/shiqihu/opt/anaconda3/lib/python3.7/site-packages (from pyvalet) (0.5.1)\n",
      "Requirement already satisfied: chardet<3.1.0,>=3.0.2 in /Users/shiqihu/opt/anaconda3/lib/python3.7/site-packages (from requests->pyvalet) (3.0.4)\n",
      "Requirement already satisfied: urllib3!=1.25.0,!=1.25.1,<1.26,>=1.21.1 in /Users/shiqihu/opt/anaconda3/lib/python3.7/site-packages (from requests->pyvalet) (1.25.8)\n",
      "Requirement already satisfied: certifi>=2017.4.17 in /Users/shiqihu/opt/anaconda3/lib/python3.7/site-packages (from requests->pyvalet) (2019.11.28)\n",
      "Requirement already satisfied: idna<2.9,>=2.5 in /Users/shiqihu/opt/anaconda3/lib/python3.7/site-packages (from requests->pyvalet) (2.8)\n",
      "Requirement already satisfied: numpy>=1.13.3 in /Users/shiqihu/opt/anaconda3/lib/python3.7/site-packages (from pandas->pyvalet) (1.18.1)\n",
      "Requirement already satisfied: pytz>=2017.2 in /Users/shiqihu/opt/anaconda3/lib/python3.7/site-packages (from pandas->pyvalet) (2019.3)\n",
      "Requirement already satisfied: python-dateutil>=2.6.1 in /Users/shiqihu/opt/anaconda3/lib/python3.7/site-packages (from pandas->pyvalet) (2.8.1)\n",
      "Requirement already satisfied: six>=1.5 in /Users/shiqihu/opt/anaconda3/lib/python3.7/site-packages (from python-dateutil>=2.6.1->pandas->pyvalet) (1.14.0)\n",
      "Note: you may need to restart the kernel to use updated packages.\n"
     ]
    }
   ],
   "source": [
    "pip install pyvalet"
   ]
  },
  {
   "cell_type": "code",
   "execution_count": 97,
   "metadata": {},
   "outputs": [
    {
     "name": "stdout",
     "output_type": "stream",
     "text": [
      "Requirement already satisfied: quandl in /Users/shiqihu/opt/anaconda3/lib/python3.7/site-packages (3.5.1)\n",
      "Requirement already satisfied: numpy>=1.8 in /Users/shiqihu/opt/anaconda3/lib/python3.7/site-packages (from quandl) (1.18.1)\n",
      "Requirement already satisfied: python-dateutil in /Users/shiqihu/opt/anaconda3/lib/python3.7/site-packages (from quandl) (2.8.1)\n",
      "Requirement already satisfied: more-itertools in /Users/shiqihu/opt/anaconda3/lib/python3.7/site-packages (from quandl) (8.2.0)\n",
      "Requirement already satisfied: pandas>=0.14 in /Users/shiqihu/opt/anaconda3/lib/python3.7/site-packages (from quandl) (1.0.1)\n",
      "Requirement already satisfied: six in /Users/shiqihu/opt/anaconda3/lib/python3.7/site-packages (from quandl) (1.14.0)\n",
      "Requirement already satisfied: requests>=2.7.0 in /Users/shiqihu/opt/anaconda3/lib/python3.7/site-packages (from quandl) (2.22.0)\n",
      "Requirement already satisfied: inflection>=0.3.1 in /Users/shiqihu/opt/anaconda3/lib/python3.7/site-packages (from quandl) (0.5.0)\n",
      "Requirement already satisfied: pytz>=2017.2 in /Users/shiqihu/opt/anaconda3/lib/python3.7/site-packages (from pandas>=0.14->quandl) (2019.3)\n",
      "Requirement already satisfied: chardet<3.1.0,>=3.0.2 in /Users/shiqihu/opt/anaconda3/lib/python3.7/site-packages (from requests>=2.7.0->quandl) (3.0.4)\n",
      "Requirement already satisfied: idna<2.9,>=2.5 in /Users/shiqihu/opt/anaconda3/lib/python3.7/site-packages (from requests>=2.7.0->quandl) (2.8)\n",
      "Requirement already satisfied: urllib3!=1.25.0,!=1.25.1,<1.26,>=1.21.1 in /Users/shiqihu/opt/anaconda3/lib/python3.7/site-packages (from requests>=2.7.0->quandl) (1.25.8)\n",
      "Requirement already satisfied: certifi>=2017.4.17 in /Users/shiqihu/opt/anaconda3/lib/python3.7/site-packages (from requests>=2.7.0->quandl) (2019.11.28)\n",
      "Note: you may need to restart the kernel to use updated packages.\n"
     ]
    }
   ],
   "source": [
    "pip install quandl"
   ]
  },
  {
   "cell_type": "code",
   "execution_count": 98,
   "metadata": {},
   "outputs": [],
   "source": [
    "from pyvalet import ValetInterpreter\n",
    "\n",
    "vi = ValetInterpreter()"
   ]
  },
  {
   "cell_type": "markdown",
   "metadata": {},
   "source": [
    "## Bankers’ Acceptance Purchase Facility (BAPF)\n",
    "To support the continuous functioning of financial markets, the Bank of Canada purchases Bankers’ Acceptances (BAs) in the secondary market through the Bankers’ Acceptance Purchase Facility (BAPF). The BA market is one of Canada’s core funding markets and a key source of financing for small- and medium-size corporate borrowers.\n",
    "\n",
    "The BAPF program just started since March 23rd."
   ]
  },
  {
   "cell_type": "code",
   "execution_count": 99,
   "metadata": {},
   "outputs": [],
   "source": [
    "# Data retrieval for BAPF\n",
    "BAPF_group = vi.get_group_observations(\"BANKERS_ACCEPTANCE_PURCHASE_FACILITY\", response_format='csv')\n"
   ]
  },
  {
   "cell_type": "code",
   "execution_count": 100,
   "metadata": {},
   "outputs": [],
   "source": [
    "BAPF_group[\"Date\"] = BAPF_group[\"\\ndate\\\"\"]\n",
    "del BAPF_group[\"\\ndate\\\"\"]"
   ]
  },
  {
   "cell_type": "code",
   "execution_count": 101,
   "metadata": {},
   "outputs": [
    {
     "data": {
      "text/html": [
       "<div>\n",
       "<style scoped>\n",
       "    .dataframe tbody tr th:only-of-type {\n",
       "        vertical-align: middle;\n",
       "    }\n",
       "\n",
       "    .dataframe tbody tr th {\n",
       "        vertical-align: top;\n",
       "    }\n",
       "\n",
       "    .dataframe thead th {\n",
       "        text-align: right;\n",
       "    }\n",
       "</style>\n",
       "<table border=\"1\" class=\"dataframe\">\n",
       "  <thead>\n",
       "    <tr style=\"text-align: right;\">\n",
       "      <th></th>\n",
       "      <th>BAPF_SETTLEMENT_DATE</th>\n",
       "      <th>BAPF_MATURITY_DATE_START</th>\n",
       "      <th>BAPF_MATURITY_DATE_END</th>\n",
       "      <th>BAPF_AMOUNT_PURCHASED</th>\n",
       "      <th>BAPF_AMOUNT_TO_BE_PURCHASED</th>\n",
       "      <th>BAPF_RESERVE_RATE</th>\n",
       "      <th>BAPF_WEIGHTED_AVG_YIELD</th>\n",
       "    </tr>\n",
       "    <tr>\n",
       "      <th>Date</th>\n",
       "      <th></th>\n",
       "      <th></th>\n",
       "      <th></th>\n",
       "      <th></th>\n",
       "      <th></th>\n",
       "      <th></th>\n",
       "      <th></th>\n",
       "    </tr>\n",
       "  </thead>\n",
       "  <tbody>\n",
       "    <tr>\n",
       "      <th>2020-03-23</th>\n",
       "      <td>2020-03-25</td>\n",
       "      <td>2020-03-26</td>\n",
       "      <td>2020-05-04</td>\n",
       "      <td>15000.0</td>\n",
       "      <td>15000.0</td>\n",
       "      <td>0.63</td>\n",
       "      <td>1.57</td>\n",
       "    </tr>\n",
       "    <tr>\n",
       "      <th>2020-03-30</th>\n",
       "      <td>2020-04-01</td>\n",
       "      <td>2020-04-02</td>\n",
       "      <td>2020-07-21</td>\n",
       "      <td>20000.0</td>\n",
       "      <td>20000.0</td>\n",
       "      <td>0.43</td>\n",
       "      <td>1.15</td>\n",
       "    </tr>\n",
       "    <tr>\n",
       "      <th>2020-04-06</th>\n",
       "      <td>2020-04-08</td>\n",
       "      <td>2020-04-09</td>\n",
       "      <td>2020-07-28</td>\n",
       "      <td>5570.0</td>\n",
       "      <td>20000.0</td>\n",
       "      <td>0.40</td>\n",
       "      <td>0.52</td>\n",
       "    </tr>\n",
       "    <tr>\n",
       "      <th>2020-04-13</th>\n",
       "      <td>2020-04-15</td>\n",
       "      <td>2020-04-16</td>\n",
       "      <td>2020-08-04</td>\n",
       "      <td>2660.0</td>\n",
       "      <td>10000.0</td>\n",
       "      <td>0.37</td>\n",
       "      <td>0.39</td>\n",
       "    </tr>\n",
       "    <tr>\n",
       "      <th>2020-04-20</th>\n",
       "      <td>2020-04-22</td>\n",
       "      <td>2020-04-23</td>\n",
       "      <td>2020-08-11</td>\n",
       "      <td>190.0</td>\n",
       "      <td>10000.0</td>\n",
       "      <td>0.40</td>\n",
       "      <td>0.40</td>\n",
       "    </tr>\n",
       "  </tbody>\n",
       "</table>\n",
       "</div>"
      ],
      "text/plain": [
       "           BAPF_SETTLEMENT_DATE BAPF_MATURITY_DATE_START  \\\n",
       "Date                                                       \n",
       "2020-03-23           2020-03-25               2020-03-26   \n",
       "2020-03-30           2020-04-01               2020-04-02   \n",
       "2020-04-06           2020-04-08               2020-04-09   \n",
       "2020-04-13           2020-04-15               2020-04-16   \n",
       "2020-04-20           2020-04-22               2020-04-23   \n",
       "\n",
       "           BAPF_MATURITY_DATE_END  BAPF_AMOUNT_PURCHASED  \\\n",
       "Date                                                       \n",
       "2020-03-23             2020-05-04                15000.0   \n",
       "2020-03-30             2020-07-21                20000.0   \n",
       "2020-04-06             2020-07-28                 5570.0   \n",
       "2020-04-13             2020-08-04                 2660.0   \n",
       "2020-04-20             2020-08-11                  190.0   \n",
       "\n",
       "            BAPF_AMOUNT_TO_BE_PURCHASED  BAPF_RESERVE_RATE  \\\n",
       "Date                                                         \n",
       "2020-03-23                      15000.0               0.63   \n",
       "2020-03-30                      20000.0               0.43   \n",
       "2020-04-06                      20000.0               0.40   \n",
       "2020-04-13                      10000.0               0.37   \n",
       "2020-04-20                      10000.0               0.40   \n",
       "\n",
       "            BAPF_WEIGHTED_AVG_YIELD  \n",
       "Date                                 \n",
       "2020-03-23                     1.57  \n",
       "2020-03-30                     1.15  \n",
       "2020-04-06                     0.52  \n",
       "2020-04-13                     0.39  \n",
       "2020-04-20                     0.40  "
      ]
     },
     "execution_count": 101,
     "metadata": {},
     "output_type": "execute_result"
    }
   ],
   "source": [
    "#Check data\n",
    "BAPF_group = BAPF_group.set_index(\"Date\")\n",
    "BAPF_group.head()"
   ]
  },
  {
   "cell_type": "code",
   "execution_count": 102,
   "metadata": {},
   "outputs": [
    {
     "data": {
      "text/plain": [
       "<matplotlib.axes._subplots.AxesSubplot at 0x7fd0c0be20d0>"
      ]
     },
     "execution_count": 102,
     "metadata": {},
     "output_type": "execute_result"
    },
    {
     "data": {
      "image/png": "[encoded data removed]",
      "text/plain": [
       "<Figure size 720x360 with 1 Axes>"
      ]
     },
     "metadata": {
      "needs_background": "light"
     },
     "output_type": "display_data"
    }
   ],
   "source": [
    "BAPF_group[[\"BAPF_AMOUNT_PURCHASED\",\"BAPF_AMOUNT_TO_BE_PURCHASED\"]].plot(figsize = (10,5), title = \"Reserve Rate\")"
   ]
  },
  {
   "cell_type": "markdown",
   "metadata": {},
   "source": [
    "## Corporate Bond Purchase Program\n",
    "The Corporate Bond Purchase Program (CBPP) supports the liquidity and proper functioning of the corporate debt market, by purchasing bonds through a tender process in the secondary market. A liquid and efficient market for Canadian-dollar corporate bonds allows companies, currently challenged by the impact of the COVID-19 pandemic, to continue to obtain necessary longer-dated financing to support their operations, ultimately aiding the Canadian economy. It also strengthens the pass-through of monetary policy actions to borrowers.\n",
    "\n",
    "Corporate bond purchases will be conducted by TD Asset Management (TDAM) on behalf of the Bank of Canada.\n",
    "\n",
    "\n",
    "The program will begin on May 26, 2020 and operate for 12 months from May 26, 2020 to May 25, 2021."
   ]
  },
  {
   "cell_type": "code",
   "execution_count": 119,
   "metadata": {},
   "outputs": [
    {
     "data": {
      "text/html": [
       "<div>\n",
       "<style scoped>\n",
       "    .dataframe tbody tr th:only-of-type {\n",
       "        vertical-align: middle;\n",
       "    }\n",
       "\n",
       "    .dataframe tbody tr th {\n",
       "        vertical-align: top;\n",
       "    }\n",
       "\n",
       "    .dataframe thead th {\n",
       "        text-align: right;\n",
       "    }\n",
       "</style>\n",
       "<table border=\"1\" class=\"dataframe\">\n",
       "  <thead>\n",
       "    <tr style=\"text-align: right;\">\n",
       "      <th></th>\n",
       "      <th>AUCTION_DATE</th>\n",
       "      <th>SETTLE_DATE</th>\n",
       "      <th>NUM_PURCHASED</th>\n",
       "      <th>NUM_SEC_ELGB</th>\n",
       "      <th>PAR_AMT_PURCHASED</th>\n",
       "      <th>MAX_PAR_AMT_PURCHASED</th>\n",
       "    </tr>\n",
       "  </thead>\n",
       "  <tbody>\n",
       "    <tr>\n",
       "      <th>0</th>\n",
       "      <td>2020-07-23</td>\n",
       "      <td>2020-07-27</td>\n",
       "      <td>0</td>\n",
       "      <td>70</td>\n",
       "      <td>0.000</td>\n",
       "      <td>100</td>\n",
       "    </tr>\n",
       "    <tr>\n",
       "      <th>1</th>\n",
       "      <td>2020-07-21</td>\n",
       "      <td>2020-07-23</td>\n",
       "      <td>0</td>\n",
       "      <td>71</td>\n",
       "      <td>0.000</td>\n",
       "      <td>100</td>\n",
       "    </tr>\n",
       "    <tr>\n",
       "      <th>2</th>\n",
       "      <td>2020-07-16</td>\n",
       "      <td>2020-07-20</td>\n",
       "      <td>0</td>\n",
       "      <td>71</td>\n",
       "      <td>0.000</td>\n",
       "      <td>100</td>\n",
       "    </tr>\n",
       "    <tr>\n",
       "      <th>3</th>\n",
       "      <td>2020-07-14</td>\n",
       "      <td>2020-07-16</td>\n",
       "      <td>0</td>\n",
       "      <td>72</td>\n",
       "      <td>0.000</td>\n",
       "      <td>100</td>\n",
       "    </tr>\n",
       "    <tr>\n",
       "      <th>4</th>\n",
       "      <td>2020-07-09</td>\n",
       "      <td>2020-07-13</td>\n",
       "      <td>0</td>\n",
       "      <td>84</td>\n",
       "      <td>0.000</td>\n",
       "      <td>100</td>\n",
       "    </tr>\n",
       "    <tr>\n",
       "      <th>5</th>\n",
       "      <td>2020-07-07</td>\n",
       "      <td>2020-07-09</td>\n",
       "      <td>0</td>\n",
       "      <td>80</td>\n",
       "      <td>0.000</td>\n",
       "      <td>100</td>\n",
       "    </tr>\n",
       "    <tr>\n",
       "      <th>6</th>\n",
       "      <td>2020-07-02</td>\n",
       "      <td>2020-07-06</td>\n",
       "      <td>0</td>\n",
       "      <td>60</td>\n",
       "      <td>0.000</td>\n",
       "      <td>100</td>\n",
       "    </tr>\n",
       "    <tr>\n",
       "      <th>7</th>\n",
       "      <td>2020-06-29</td>\n",
       "      <td>2020-07-02</td>\n",
       "      <td>1</td>\n",
       "      <td>64</td>\n",
       "      <td>1.500</td>\n",
       "      <td>100</td>\n",
       "    </tr>\n",
       "    <tr>\n",
       "      <th>8</th>\n",
       "      <td>2020-06-25</td>\n",
       "      <td>2020-06-29</td>\n",
       "      <td>8</td>\n",
       "      <td>53</td>\n",
       "      <td>25.429</td>\n",
       "      <td>100</td>\n",
       "    </tr>\n",
       "    <tr>\n",
       "      <th>9</th>\n",
       "      <td>2020-06-23</td>\n",
       "      <td>2020-06-25</td>\n",
       "      <td>2</td>\n",
       "      <td>56</td>\n",
       "      <td>6.525</td>\n",
       "      <td>100</td>\n",
       "    </tr>\n",
       "    <tr>\n",
       "      <th>10</th>\n",
       "      <td>2020-06-18</td>\n",
       "      <td>2020-06-22</td>\n",
       "      <td>3</td>\n",
       "      <td>46</td>\n",
       "      <td>3.158</td>\n",
       "      <td>100</td>\n",
       "    </tr>\n",
       "    <tr>\n",
       "      <th>11</th>\n",
       "      <td>2020-06-16</td>\n",
       "      <td>2020-06-18</td>\n",
       "      <td>5</td>\n",
       "      <td>44</td>\n",
       "      <td>6.443</td>\n",
       "      <td>100</td>\n",
       "    </tr>\n",
       "    <tr>\n",
       "      <th>12</th>\n",
       "      <td>2020-06-11</td>\n",
       "      <td>2020-06-15</td>\n",
       "      <td>22</td>\n",
       "      <td>58</td>\n",
       "      <td>21.605</td>\n",
       "      <td>100</td>\n",
       "    </tr>\n",
       "    <tr>\n",
       "      <th>13</th>\n",
       "      <td>2020-06-09</td>\n",
       "      <td>2020-06-11</td>\n",
       "      <td>7</td>\n",
       "      <td>60</td>\n",
       "      <td>11.216</td>\n",
       "      <td>100</td>\n",
       "    </tr>\n",
       "    <tr>\n",
       "      <th>14</th>\n",
       "      <td>2020-06-04</td>\n",
       "      <td>2020-06-08</td>\n",
       "      <td>5</td>\n",
       "      <td>91</td>\n",
       "      <td>31.000</td>\n",
       "      <td>250</td>\n",
       "    </tr>\n",
       "    <tr>\n",
       "      <th>15</th>\n",
       "      <td>2020-06-02</td>\n",
       "      <td>2020-06-04</td>\n",
       "      <td>1</td>\n",
       "      <td>70</td>\n",
       "      <td>5.000</td>\n",
       "      <td>250</td>\n",
       "    </tr>\n",
       "    <tr>\n",
       "      <th>16</th>\n",
       "      <td>2020-05-28</td>\n",
       "      <td>2020-06-01</td>\n",
       "      <td>0</td>\n",
       "      <td>50</td>\n",
       "      <td>0.000</td>\n",
       "      <td>100</td>\n",
       "    </tr>\n",
       "    <tr>\n",
       "      <th>17</th>\n",
       "      <td>2020-05-26</td>\n",
       "      <td>2020-05-28</td>\n",
       "      <td>4</td>\n",
       "      <td>61</td>\n",
       "      <td>21.500</td>\n",
       "      <td>100</td>\n",
       "    </tr>\n",
       "  </tbody>\n",
       "</table>\n",
       "</div>"
      ],
      "text/plain": [
       "   AUCTION_DATE SETTLE_DATE  NUM_PURCHASED  NUM_SEC_ELGB  PAR_AMT_PURCHASED  \\\n",
       "0    2020-07-23  2020-07-27              0            70              0.000   \n",
       "1    2020-07-21  2020-07-23              0            71              0.000   \n",
       "2    2020-07-16  2020-07-20              0            71              0.000   \n",
       "3    2020-07-14  2020-07-16              0            72              0.000   \n",
       "4    2020-07-09  2020-07-13              0            84              0.000   \n",
       "5    2020-07-07  2020-07-09              0            80              0.000   \n",
       "6    2020-07-02  2020-07-06              0            60              0.000   \n",
       "7    2020-06-29  2020-07-02              1            64              1.500   \n",
       "8    2020-06-25  2020-06-29              8            53             25.429   \n",
       "9    2020-06-23  2020-06-25              2            56              6.525   \n",
       "10   2020-06-18  2020-06-22              3            46              3.158   \n",
       "11   2020-06-16  2020-06-18              5            44              6.443   \n",
       "12   2020-06-11  2020-06-15             22            58             21.605   \n",
       "13   2020-06-09  2020-06-11              7            60             11.216   \n",
       "14   2020-06-04  2020-06-08              5            91             31.000   \n",
       "15   2020-06-02  2020-06-04              1            70              5.000   \n",
       "16   2020-05-28  2020-06-01              0            50              0.000   \n",
       "17   2020-05-26  2020-05-28              4            61             21.500   \n",
       "\n",
       "    MAX_PAR_AMT_PURCHASED  \n",
       "0                     100  \n",
       "1                     100  \n",
       "2                     100  \n",
       "3                     100  \n",
       "4                     100  \n",
       "5                     100  \n",
       "6                     100  \n",
       "7                     100  \n",
       "8                     100  \n",
       "9                     100  \n",
       "10                    100  \n",
       "11                    100  \n",
       "12                    100  \n",
       "13                    100  \n",
       "14                    250  \n",
       "15                    250  \n",
       "16                    100  \n",
       "17                    100  "
      ]
     },
     "execution_count": 119,
     "metadata": {},
     "output_type": "execute_result"
    }
   ],
   "source": [
    "csvpath = Path('../UofT-Project-1-Group-5/valet_data/CBPP.csv')\n",
    "CBPP = pd.read_csv(csvpath)\n",
    "CBPP"
   ]
  },
  {
   "cell_type": "code",
   "execution_count": 120,
   "metadata": {},
   "outputs": [],
   "source": [
    "CBPP = CBPP.set_index(\"AUCTION_DATE\")"
   ]
  },
  {
   "cell_type": "code",
   "execution_count": 121,
   "metadata": {},
   "outputs": [
    {
     "data": {
      "text/plain": [
       "<matplotlib.axes._subplots.AxesSubplot at 0x7fd06063ee50>"
      ]
     },
     "execution_count": 121,
     "metadata": {},
     "output_type": "execute_result"
    },
    {
     "data": {
      "image/png": "[encoded data removed]",
      "text/plain": [
       "<Figure size 720x360 with 1 Axes>"
      ]
     },
     "metadata": {
      "needs_background": "light"
     },
     "output_type": "display_data"
    }
   ],
   "source": [
    "CBPP[[\"PAR_AMT_PURCHASED\",\"MAX_PAR_AMT_PURCHASED\"]].plot(figsize = (10,5), title = \"CBPP Contribution\")"
   ]
  },
  {
   "cell_type": "markdown",
   "metadata": {},
   "source": []
  },
  {
   "cell_type": "code",
   "execution_count": null,
   "metadata": {},
   "outputs": [],
   "source": []
  }
 ],
 "metadata": {
  "kernelspec": {
   "display_name": "Python 3",
   "language": "python",
   "name": "python3"
  },
  "language_info": {
   "codemirror_mode": {
    "name": "ipython",
    "version": 3
   },
   "file_extension": ".py",
   "mimetype": "text/x-python",
   "name": "python",
   "nbconvert_exporter": "python",
   "pygments_lexer": "ipython3",
   "version": "3.7.6"
  }
 },
 "nbformat": 4,
 "nbformat_minor": 4
}
