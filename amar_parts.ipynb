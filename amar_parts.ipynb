{
 "cells": [
  {
   "cell_type": "code",
   "execution_count": 1,
   "metadata": {},
   "outputs": [
    {
     "name": "stderr",
     "output_type": "stream",
     "text": [
      "\n",
      "Bad key \"text.kerning_factor\" on line 4 in\n",
      "C:\\Users\\amuni\\Anaconda3\\envs\\pyvizenv\\lib\\site-packages\\matplotlib\\mpl-data\\stylelib\\_classic_test_patch.mplstyle.\n",
      "You probably need to get an updated matplotlibrc file from\n",
      "http://github.com/matplotlib/matplotlib/blob/master/matplotlibrc.template\n",
      "or from the matplotlib source distribution\n"
     ]
    }
   ],
   "source": [
    "from finquant.portfolio import build_portfolio\n",
    "from finquant.efficient_frontier import EfficientFrontier\n",
    "import pandas as pd\n",
    "import numpy as np\n",
    "import quandl\n",
    "import datetime\n",
    "from finquant.moving_average import ema\n",
    "import matplotlib.pyplot as plt"
   ]
  },
  {
   "cell_type": "code",
   "execution_count": 2,
   "metadata": {},
   "outputs": [
    {
     "name": "stdout",
     "output_type": "stream",
     "text": [
      "[*********************100%***********************]  4 of 4 completed\n"
     ]
    },
    {
     "data": {
      "text/html": [
       "<div>\n",
       "<style scoped>\n",
       "    .dataframe tbody tr th:only-of-type {\n",
       "        vertical-align: middle;\n",
       "    }\n",
       "\n",
       "    .dataframe tbody tr th {\n",
       "        vertical-align: top;\n",
       "    }\n",
       "\n",
       "    .dataframe thead th {\n",
       "        text-align: right;\n",
       "    }\n",
       "</style>\n",
       "<table border=\"1\" class=\"dataframe\">\n",
       "  <thead>\n",
       "    <tr style=\"text-align: right;\">\n",
       "      <th></th>\n",
       "      <th>LB.TO</th>\n",
       "      <th>CWB.TO</th>\n",
       "      <th>EQB.TO</th>\n",
       "      <th>HCG.TO</th>\n",
       "    </tr>\n",
       "    <tr>\n",
       "      <th>Date</th>\n",
       "      <th></th>\n",
       "      <th></th>\n",
       "      <th></th>\n",
       "      <th></th>\n",
       "    </tr>\n",
       "  </thead>\n",
       "  <tbody>\n",
       "    <tr>\n",
       "      <th>2019-01-02</th>\n",
       "      <td>35.208340</td>\n",
       "      <td>25.046080</td>\n",
       "      <td>59.233109</td>\n",
       "      <td>15.00</td>\n",
       "    </tr>\n",
       "    <tr>\n",
       "      <th>2019-01-03</th>\n",
       "      <td>35.317451</td>\n",
       "      <td>24.942389</td>\n",
       "      <td>59.944649</td>\n",
       "      <td>15.59</td>\n",
       "    </tr>\n",
       "    <tr>\n",
       "      <th>2019-01-04</th>\n",
       "      <td>35.944870</td>\n",
       "      <td>25.866182</td>\n",
       "      <td>60.704918</td>\n",
       "      <td>15.77</td>\n",
       "    </tr>\n",
       "    <tr>\n",
       "      <th>2019-01-07</th>\n",
       "      <td>38.199951</td>\n",
       "      <td>26.017002</td>\n",
       "      <td>60.870625</td>\n",
       "      <td>15.91</td>\n",
       "    </tr>\n",
       "    <tr>\n",
       "      <th>2019-01-08</th>\n",
       "      <td>38.609135</td>\n",
       "      <td>26.280945</td>\n",
       "      <td>61.260502</td>\n",
       "      <td>15.98</td>\n",
       "    </tr>\n",
       "  </tbody>\n",
       "</table>\n",
       "</div>"
      ],
      "text/plain": [
       "                LB.TO     CWB.TO     EQB.TO  HCG.TO\n",
       "Date                                               \n",
       "2019-01-02  35.208340  25.046080  59.233109   15.00\n",
       "2019-01-03  35.317451  24.942389  59.944649   15.59\n",
       "2019-01-04  35.944870  25.866182  60.704918   15.77\n",
       "2019-01-07  38.199951  26.017002  60.870625   15.91\n",
       "2019-01-08  38.609135  26.280945  61.260502   15.98"
      ]
     },
     "execution_count": 2,
     "metadata": {},
     "output_type": "execute_result"
    }
   ],
   "source": [
    "# Build portfolio for small banks, assuming we are investing $1000 for each of the banks\n",
    "\n",
    "small_banks = ['LB.TO', 'CWB.TO', 'EQB.TO', 'HCG.TO']\n",
    "start_date = datetime.datetime(2019, 1, 1)\n",
    "end_date = datetime.datetime(2020, 6, 30)\n",
    "small_banks_pf = build_portfolio(names=small_banks, start_date=start_date, end_date=end_date, data_api=\"yfinance\")\n",
    "small_banks_pf.data.head(5)"
   ]
  },
  {
   "cell_type": "code",
   "execution_count": 3,
   "metadata": {},
   "outputs": [
    {
     "name": "stdout",
     "output_type": "stream",
     "text": [
      "[*********************100%***********************]  6 of 6 completed\n"
     ]
    },
    {
     "data": {
      "text/html": [
       "<div>\n",
       "<style scoped>\n",
       "    .dataframe tbody tr th:only-of-type {\n",
       "        vertical-align: middle;\n",
       "    }\n",
       "\n",
       "    .dataframe tbody tr th {\n",
       "        vertical-align: top;\n",
       "    }\n",
       "\n",
       "    .dataframe thead th {\n",
       "        text-align: right;\n",
       "    }\n",
       "</style>\n",
       "<table border=\"1\" class=\"dataframe\">\n",
       "  <thead>\n",
       "    <tr style=\"text-align: right;\">\n",
       "      <th></th>\n",
       "      <th>BNS.TO</th>\n",
       "      <th>TD.TO</th>\n",
       "      <th>BMO.TO</th>\n",
       "      <th>RY.TO</th>\n",
       "      <th>NA.TO</th>\n",
       "      <th>CM-PQ.TO</th>\n",
       "    </tr>\n",
       "    <tr>\n",
       "      <th>Date</th>\n",
       "      <th></th>\n",
       "      <th></th>\n",
       "      <th></th>\n",
       "      <th></th>\n",
       "      <th></th>\n",
       "      <th></th>\n",
       "    </tr>\n",
       "  </thead>\n",
       "  <tbody>\n",
       "    <tr>\n",
       "      <th>1995-01-12</th>\n",
       "      <td>2.371537</td>\n",
       "      <td>2.094515</td>\n",
       "      <td>4.293557</td>\n",
       "      <td>2.619017</td>\n",
       "      <td>1.493232</td>\n",
       "      <td>NaN</td>\n",
       "    </tr>\n",
       "    <tr>\n",
       "      <th>1995-01-13</th>\n",
       "      <td>2.407162</td>\n",
       "      <td>2.106999</td>\n",
       "      <td>4.360152</td>\n",
       "      <td>2.643960</td>\n",
       "      <td>1.473861</td>\n",
       "      <td>NaN</td>\n",
       "    </tr>\n",
       "    <tr>\n",
       "      <th>1995-01-16</th>\n",
       "      <td>2.455306</td>\n",
       "      <td>2.133011</td>\n",
       "      <td>4.468807</td>\n",
       "      <td>2.693845</td>\n",
       "      <td>1.493232</td>\n",
       "      <td>NaN</td>\n",
       "    </tr>\n",
       "    <tr>\n",
       "      <th>1995-01-17</th>\n",
       "      <td>2.419679</td>\n",
       "      <td>2.120525</td>\n",
       "      <td>4.424992</td>\n",
       "      <td>2.656931</td>\n",
       "      <td>1.473861</td>\n",
       "      <td>NaN</td>\n",
       "    </tr>\n",
       "    <tr>\n",
       "      <th>1995-01-18</th>\n",
       "      <td>2.443750</td>\n",
       "      <td>2.106999</td>\n",
       "      <td>4.447775</td>\n",
       "      <td>2.681874</td>\n",
       "      <td>1.514218</td>\n",
       "      <td>NaN</td>\n",
       "    </tr>\n",
       "  </tbody>\n",
       "</table>\n",
       "</div>"
      ],
      "text/plain": [
       "              BNS.TO     TD.TO    BMO.TO     RY.TO     NA.TO  CM-PQ.TO\n",
       "Date                                                                  \n",
       "1995-01-12  2.371537  2.094515  4.293557  2.619017  1.493232       NaN\n",
       "1995-01-13  2.407162  2.106999  4.360152  2.643960  1.473861       NaN\n",
       "1995-01-16  2.455306  2.133011  4.468807  2.693845  1.493232       NaN\n",
       "1995-01-17  2.419679  2.120525  4.424992  2.656931  1.473861       NaN\n",
       "1995-01-18  2.443750  2.106999  4.447775  2.681874  1.514218       NaN"
      ]
     },
     "execution_count": 3,
     "metadata": {},
     "output_type": "execute_result"
    }
   ],
   "source": [
    "# Build portfolio for big banks, assuming we are investing $1000 for each of the banks\n",
    "\n",
    "big_banks = ['BNS.TO', 'TD.TO', 'BMO.TO', 'RY.TO', 'NA.TO', 'CM-PQ.TO']\n",
    "start_date = datetime.datetime(2019, 1, 1)\n",
    "end_date = datetime.datetime(2020, 6, 30)\n",
    "big_banks_pf = build_portfolio(names=big_banks, data_api=\"yfinance\")\n",
    "big_banks_pf.data.head(5)"
   ]
  },
  {
   "cell_type": "code",
   "execution_count": 4,
   "metadata": {},
   "outputs": [
    {
     "ename": "NameError",
     "evalue": "name 'pf' is not defined",
     "output_type": "error",
     "traceback": [
      "\u001b[1;31m---------------------------------------------------------------------------\u001b[0m",
      "\u001b[1;31mNameError\u001b[0m                                 Traceback (most recent call last)",
      "\u001b[1;32m<ipython-input-4-3f12095fa4a1>\u001b[0m in \u001b[0;36m<module>\u001b[1;34m\u001b[0m\n\u001b[1;32m----> 1\u001b[1;33m \u001b[0max\u001b[0m \u001b[1;33m=\u001b[0m \u001b[0mpf\u001b[0m\u001b[1;33m.\u001b[0m\u001b[0mdata\u001b[0m\u001b[1;33m.\u001b[0m\u001b[0mplot\u001b[0m\u001b[1;33m(\u001b[0m\u001b[0msecondary_y\u001b[0m\u001b[1;33m=\u001b[0m\u001b[1;33m[\u001b[0m\u001b[1;34m\"CM.TO\"\u001b[0m\u001b[1;33m,\u001b[0m \u001b[1;34m\"BNS.TO\"\u001b[0m\u001b[1;33m]\u001b[0m\u001b[1;33m,\u001b[0m \u001b[0mgrid\u001b[0m\u001b[1;33m=\u001b[0m\u001b[1;32mTrue\u001b[0m\u001b[1;33m,\u001b[0m \u001b[0mfigsize\u001b[0m\u001b[1;33m=\u001b[0m\u001b[1;33m(\u001b[0m\u001b[1;36m8\u001b[0m\u001b[1;33m,\u001b[0m\u001b[1;36m8\u001b[0m\u001b[1;33m)\u001b[0m\u001b[1;33m)\u001b[0m\u001b[1;33m\u001b[0m\u001b[1;33m\u001b[0m\u001b[0m\n\u001b[0m\u001b[0;32m      2\u001b[0m \u001b[1;31m# computing exponential moving average and plotting it\u001b[0m\u001b[1;33m\u001b[0m\u001b[1;33m\u001b[0m\u001b[1;33m\u001b[0m\u001b[0m\n\u001b[0;32m      3\u001b[0m \u001b[0mema\u001b[0m\u001b[1;33m(\u001b[0m\u001b[0mpf\u001b[0m\u001b[1;33m.\u001b[0m\u001b[0mdata\u001b[0m\u001b[1;33m)\u001b[0m\u001b[1;33m.\u001b[0m\u001b[0mplot\u001b[0m\u001b[1;33m(\u001b[0m\u001b[0max\u001b[0m\u001b[1;33m=\u001b[0m\u001b[0max\u001b[0m\u001b[1;33m,\u001b[0m \u001b[0msecondary_y\u001b[0m\u001b[1;33m=\u001b[0m\u001b[1;33m[\u001b[0m\u001b[1;34m\"WIKI/MCD\"\u001b[0m\u001b[1;33m,\u001b[0m \u001b[1;34m\"WIKI/DIS\"\u001b[0m\u001b[1;33m]\u001b[0m\u001b[1;33m)\u001b[0m\u001b[1;33m\u001b[0m\u001b[1;33m\u001b[0m\u001b[0m\n\u001b[0;32m      4\u001b[0m \u001b[0mplt\u001b[0m\u001b[1;33m.\u001b[0m\u001b[0mshow\u001b[0m\u001b[1;33m(\u001b[0m\u001b[1;33m)\u001b[0m\u001b[1;33m\u001b[0m\u001b[1;33m\u001b[0m\u001b[0m\n",
      "\u001b[1;31mNameError\u001b[0m: name 'pf' is not defined"
     ]
    }
   ],
   "source": [
    "ax = pf.data.plot(secondary_y=[\"CM.TO\", \"BNS.TO\"], grid=True, figsize=(8,8))\n",
    "# computing exponential moving average and plotting it\n",
    "ema(pf.data).plot(ax=ax, secondary_y=[\"WIKI/MCD\", \"WIKI/DIS\"])\n",
    "plt.show()"
   ]
  },
  {
   "cell_type": "code",
   "execution_count": null,
   "metadata": {},
   "outputs": [],
   "source": [
    "# Efficient Frontier\n",
    "\n",
    "# Based on the **Efficient Frontier**, the portfolio can be optimised for\n",
    "#  - minimum volatility\n",
    "#  - maximum Sharpe ratio\n",
    "#  - minimum volatility for a given target return\n",
    "#  - maximum Sharpe ratio for a given target volatility\n",
    "\n",
    "# Set parameters for the efficient frontier\n",
    "freq = 1\n",
    "\n",
    "# creating an instance of EfficientFrontier\n",
    "ef = EfficientFrontier(pf.comp_mean_returns(freq=freq), pf.comp_cov())\n",
    "\n",
    "# # computing and plotting efficient frontier of pf\n",
    "# pf.ef_plot_efrontier()\n",
    "# # adding markers to optimal solutions\n",
    "# pf.ef_plot_optimal_portfolios()\n",
    "# # and adding the individual stocks to the plot\n",
    "# pf.plot_stocks()\n",
    "# plt.show()\n",
    "\n",
    "# optimisation for minimum volatility\n",
    "# print(ef.minimum_volatility())\n",
    "# printing out relevant quantities of the optimised portfolio\n",
    "(expected_return, volatility, sharpe) = ef.properties(verbose=True)\n",
    "# plotting efficient frontier\n",
    "# ef.plot_efrontier()\n",
    "# adding markers to optimal solutions\n",
    "# pf.ef.plot_optimal_portfolios()\n",
    "# and adding the individual stocks to the plot\n",
    "# pf.plot_stocks()\n",
    "# plt.show()"
   ]
  },
  {
   "cell_type": "code",
   "execution_count": null,
   "metadata": {},
   "outputs": [],
   "source": []
  }
 ],
 "metadata": {
  "kernelspec": {
   "display_name": "Python [conda env:pyvizenv]",
   "language": "python",
   "name": "conda-env-pyvizenv-py"
  },
  "language_info": {
   "codemirror_mode": {
    "name": "ipython",
    "version": 3
   },
   "file_extension": ".py",
   "mimetype": "text/x-python",
   "name": "python",
   "nbconvert_exporter": "python",
   "pygments_lexer": "ipython3",
   "version": "3.7.7"
  }
 },
 "nbformat": 4,
 "nbformat_minor": 4
}
